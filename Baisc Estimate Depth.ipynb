{
  "nbformat": 4,
  "nbformat_minor": 0,
  "metadata": {
    "colab": {
      "provenance": [],
      "gpuType": "T4"
    },
    "kernelspec": {
      "name": "python3",
      "display_name": "Python 3"
    },
    "language_info": {
      "name": "python"
    },
    "accelerator": "GPU"
  },
  "cells": [
    {
      "cell_type": "code",
      "execution_count": 1,
      "metadata": {
        "id": "9RIY3Y0aLpfu",
        "colab": {
          "base_uri": "https://localhost:8080/"
        },
        "outputId": "b6f85d87-6c01-4aee-94da-4548131965fe"
      },
      "outputs": [
        {
          "output_type": "stream",
          "name": "stdout",
          "text": [
            "/usr/local/lib/python3.10/dist-packages/gdown/__main__.py:132: FutureWarning: Option `--id` was deprecated in version 4.3.1 and will be removed in 5.0. You don't need to pass it anymore to use a file ID.\n",
            "  warnings.warn(\n",
            "Downloading...\n",
            "From: https://drive.google.com/uc?id=1wxmiUdqMciuTOs0ouKEISl8-iTVXdOWn\n",
            "To: /content/Aloe_images.zip\n",
            "100% 1.32M/1.32M [00:00<00:00, 13.4MB/s]\n",
            "Archive:  Aloe_images.zip\n",
            "  inflating: Aloe/Aloe_left_1.png    \n",
            "  inflating: Aloe/Aloe_right_3.png   \n",
            "  inflating: Aloe/Aloe_right_1.png   \n",
            "  inflating: Aloe/Aloe_right_2.png   \n",
            "  inflating: Aloe/Disparity_map_corr.png  \n"
          ]
        }
      ],
      "source": [
        "# Aloe: https://drive.google.com/file/d/1wxmiUdqMciuTOs0ouKEISl8-iTVXdOWn/view?usp=drive_link\n",
        "!gdown --id 1wxmiUdqMciuTOs0ouKEISl8-iTVXdOWn\n",
        "!unzip Aloe_images.zip"
      ]
    },
    {
      "cell_type": "code",
      "source": [
        "import cv2\n",
        "import numpy as np\n",
        "from google.colab.patches import cv2_imshow"
      ],
      "metadata": {
        "id": "N0b0TxqC2aun"
      },
      "execution_count": 2,
      "outputs": []
    },
    {
      "cell_type": "code",
      "source": [],
      "metadata": {
        "id": "rNPTMsLQ2cIY"
      },
      "execution_count": null,
      "outputs": []
    },
    {
      "cell_type": "code",
      "source": [
        "import cv2\n",
        "import numpy as np\n",
        "\n",
        "# 1. Semi-Global Block Matching (SGBM)\n",
        "def sgbm_depth_estimation(left_img, right_img, min_disparity=0, num_disparities=64, block_size=7):\n",
        "    # Đọc ảnh ở chế độ xám\n",
        "    left = cv2.imread(left_img, 0)\n",
        "    right = cv2.imread(right_img, 0)\n",
        "\n",
        "    # Kiểm tra xem ảnh đã được tải chính xác chưa\n",
        "    if left is None or right is None:\n",
        "        raise FileNotFoundError(f\"One or both image files not found or could not be opened: {left_img}, {right_img}\")\n",
        "\n",
        "    # Khởi tạo bộ khớp SGBM\n",
        "    sgbm = cv2.StereoSGBM_create(\n",
        "        minDisparity=min_disparity,\n",
        "        numDisparities=num_disparities,\n",
        "        blockSize=block_size,\n",
        "        P1=8 * 3 * block_size ** 2,\n",
        "        P2=32 * 3 * block_size ** 2,\n",
        "        disp12MaxDiff=1,\n",
        "        uniquenessRatio=15,\n",
        "        speckleWindowSize=100,\n",
        "        speckleRange=32,\n",
        "        preFilterCap=63,\n",
        "        mode=cv2.STEREO_SGBM_MODE_SGBM_3WAY\n",
        "    )\n",
        "\n",
        "    # Tính toán bản đồ chênh lệch\n",
        "    disparity = sgbm.compute(left, right).astype(np.float32) / 16.0\n",
        "\n",
        "    return disparity\n",
        "\n",
        "# 2. Census Transform (helper function)\n",
        "def census_transform(img, kernel_size=5):\n",
        "    height, width = img.shape\n",
        "    census_img = np.zeros((height, width), dtype=np.uint8)\n",
        "    kernel_half = kernel_size // 2\n",
        "\n",
        "    for y in range(kernel_half, height - kernel_half):\n",
        "        for x in range(kernel_half, width - kernel_half):\n",
        "            center_pixel = img[y, x]\n",
        "            census_value = 0\n",
        "            bit = 1\n",
        "\n",
        "            for v in range(-kernel_half, kernel_half + 1):\n",
        "                for u in range(-kernel_half, kernel_half + 1):\n",
        "                    if v == 0 and u == 0:\n",
        "                        continue\n",
        "                    census_value |= (img[y + v, x + u] < center_pixel) << bit\n",
        "                    bit += 1\n",
        "\n",
        "            census_img[y, x] = census_value\n",
        "\n",
        "    return census_img\n",
        "\n",
        "# 4. Sub-pixel Refinement (helper function)\n",
        "def subpixel_refinement(disparity_map):\n",
        "    refined_disparity = cv2.GaussianBlur(disparity_map, (5, 5), 0)\n",
        "    return refined_disparity\n",
        "\n",
        "# 5. Left-Right Consistency Check (helper function)\n",
        "def left_right_consistency_check(left_disparity, right_disparity, threshold=1.5):  # Điều chỉnh ngưỡng\n",
        "    height, width = left_disparity.shape\n",
        "    consistency_map = np.zeros_like(left_disparity, dtype=np.uint8)\n",
        "\n",
        "    for y in range(height):\n",
        "        for x in range(width):\n",
        "            d = left_disparity[y, x]\n",
        "            if 0 <= x - d < width and abs(d - right_disparity[y, x - int(d)]) < threshold:\n",
        "                consistency_map[y, x] = d\n",
        "            else:\n",
        "                consistency_map[y, x] = 0  # Mark inconsistent disparities\n",
        "\n",
        "    return consistency_map\n",
        "\n",
        "# 6. Post-processing (helper function)\n",
        "def post_process_disparity(disparity_map):\n",
        "    # Áp dụng lọc song phương để làm mịn bảo toàn cạnh\n",
        "    disparity_bilateral = cv2.bilateralFilter(disparity_map, 9, 75, 75)\n",
        "\n",
        "    return disparity_bilateral\n",
        "\n",
        "# Main function to integrate all techniques\n",
        "def depth_estimation_pipeline(left_img, right_img):\n",
        "    # Step 1: SGBM to compute initial disparity\n",
        "    disparity = sgbm_depth_estimation(left_img, right_img)\n",
        "\n",
        "    # Step 2: Apply Census Transform (Optional)\n",
        "    left_census = census_transform(cv2.imread(left_img, 0))\n",
        "    right_census = census_transform(cv2.imread(right_img, 0))\n",
        "\n",
        "    # Step 3: Sub-pixel refinement\n",
        "    disparity_refined = subpixel_refinement(disparity)\n",
        "\n",
        "    # Step 4: Compute right disparity map for consistency check\n",
        "    disparity_right = sgbm_depth_estimation(right_img, left_img)\n",
        "\n",
        "    # Step 5: Apply left-right consistency check\n",
        "    consistency_map = left_right_consistency_check(disparity_refined, disparity_right)\n",
        "\n",
        "    # Step 6: Post-process the disparity map\n",
        "    final_disparity = post_process_disparity(consistency_map)\n",
        "\n",
        "    # Normalize the disparity map for visualization\n",
        "    final_disparity_normalized = cv2.normalize(final_disparity, None, 0, 255, cv2.NORM_MINMAX)\n",
        "    final_disparity_normalized = np.uint8(final_disparity_normalized)\n",
        "\n",
        "    # Save the final disparity map\n",
        "    cv2.imwrite('final_disparity.png', final_disparity_normalized)\n",
        "    cv2.imwrite('final_disparity_color.png', cv2.applyColorMap(final_disparity_normalized, cv2.COLORMAP_JET))\n",
        "\n",
        "    print(\"Depth estimation pipeline completed.\")\n",
        "    return final_disparity_normalized\n",
        "\n",
        "# Example usage\n",
        "left_image_path = '/content/Aloe/Aloe_left_1.png'\n",
        "right_image_path = '/content/Aloe/Aloe_right_1.png'\n",
        "depth_map = depth_estimation_pipeline(left_image_path, right_image_path)"
      ],
      "metadata": {
        "colab": {
          "base_uri": "https://localhost:8080/"
        },
        "id": "Ud60T5Vk3Bl5",
        "outputId": "818630a4-1906-469b-cc44-105fa803e813"
      },
      "execution_count": 8,
      "outputs": [
        {
          "output_type": "stream",
          "name": "stdout",
          "text": [
            "Depth estimation pipeline completed.\n"
          ]
        }
      ]
    },
    {
      "cell_type": "code",
      "source": [],
      "metadata": {
        "colab": {
          "base_uri": "https://localhost:8080/"
        },
        "id": "PVZbAm9o3qKJ",
        "outputId": "b97c893f-f0a1-4113-dedd-f87cd06f1e58"
      },
      "execution_count": 6,
      "outputs": [
        {
          "output_type": "stream",
          "name": "stdout",
          "text": [
            "Depth estimation pipeline completed.\n"
          ]
        }
      ]
    },
    {
      "cell_type": "code",
      "source": [],
      "metadata": {
        "id": "kJfRoQ0175fZ"
      },
      "execution_count": null,
      "outputs": []
    }
  ]
}